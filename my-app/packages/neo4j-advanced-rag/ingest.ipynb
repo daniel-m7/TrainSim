{
 "cells": [
  {
   "cell_type": "code",
   "execution_count": 1,
   "metadata": {},
   "outputs": [],
   "source": [
    "from pathlib import Path\n",
    "from typing import List\n",
    "\n",
    "from langchain_community.document_loaders import TextLoader\n",
    "from langchain_community.graphs import Neo4jGraph\n",
    "from langchain_core.prompts import ChatPromptTemplate\n",
    "from pydantic import BaseModel, Field\n",
    "from langchain_openai import ChatOpenAI, OpenAIEmbeddings\n",
    "from langchain_text_splitters import TokenTextSplitter\n",
    "from neo4j.exceptions import ClientError"
   ]
  },
  {
   "cell_type": "code",
   "execution_count": 2,
   "metadata": {},
   "outputs": [],
   "source": [
    "graph = Neo4jGraph(database=\"jeopardy\") # unforturnately that specifying db does not work\n",
    "db_name = \"jeopardy\"\n",
    "\n",
    "# Embeddings & LLM models\n",
    "embeddings = OpenAIEmbeddings()\n",
    "embedding_dimension = 1536\n",
    "llm = ChatOpenAI(temperature=0)"
   ]
  },
  {
   "cell_type": "code",
   "execution_count": 4,
   "metadata": {},
   "outputs": [
    {
     "name": "stdout",
     "output_type": "stream",
     "text": [
      "[Document(metadata={'source': 'extracted_text.txt'}, page_content=\"DINNER\\nAPPETIZERS\\nSHORT RIB ARANCINI . . . . . . . . . . . . . . . . . . . . . . . . . . . . . . . . . . . . . . . . . . . . . . . . . . . . . . . . . . . . . . . . . . . $11\\nFried balls of risotto and tender beef short rib served with our tomato basil sauce\\nFRESH STRACCIATELLA CHEESE & ANTIPASTO PLATE (SERVES 2-3) . . . . . . . . . . . . . . . . . . . . . . . . . . . $25\\nSoft freshly made mozzarella ribbonss in rich cream topped with lemon zest, olive oil and pistachios \\naccompanied by soppresatta, oven-dried tomatoes and giardiniera\\nBAKED WAGYU-PORK MEATBALL. . . . . . . . . . . . . . . . . . . . . . . . . . . . . . . . . . . . . . . . . . . . . . . . . . . . . . . . . $15\\nWagyu beef and Kurobuta pork meatballs broiled with fresh mozzarella & tomato sauce\\nGOAT CHEESE & MASCARPONE DIP. . . . . . . . . . . . . . . . . . . . . . . . . . . . . . . . . . . . . . . . . . . . . . . . . . . . . . .  $12\\nServed with our grilled ciabatta for dipping, this Mama Ricotta’s favorite is topped \\nwith a warm tomato basil sauce\\nPEI MUSSELS (when available) . . . . . . . . . . . . . . . . . . . . . . . . . . . . . . . . . . . . . . . . . . . . . . . . . . . . . . . . . . . $18\\nSteamed in a broth with roasted tomatoes, white wine, Italian butter and \\nplenty of crusty sourdough bread to soak up the ﬂavors\\n(Drizzled with truffle oil add $2.00)\\nMOZZARELLA & TOMATOES . . . . . . . . . . . . . . . . . . . . . . . . . . . . . . . . . . . SMALL $8 | FULL $13 | FAMILY $18\\nHouse made fresh mozzarella snuggled between thick slices of \\nvine-ripened tomatoes, drizzled with extra virgin olive oil & fresh basil\\nSOUP & SALAD\\nMILANESE ONION SOUP . . . . . . . . . . . . . . . . . . . . . . . . . . . . . . . . . . . . . . . . . . . . . . . . . . . . . . . . . . BOWL | $8\\nCaramelized onions in a rich broth topped with toast and broiled Fontina cheese\\nZUPPA DEL GIORNO . . . . . . . . . . . . . . . . . . . . . . . . . . . . . . . . . . . . . . . . . . . . . . . . . . . . . . CUP | $3 BOWL | $5\\nMade fresh daily\\nGREEK YOGURT CAESAR SALAD. . . . . . . . . . . . . . . . . . . . . . . . . . . . . . . . . . . . . . . . . SMALL | $10 FULL | $13\\nwith crispy garlic breadcrumbs and Pecorino Romano\\nCHOPPED SALAD . . . . . . . . . . . . . . . . . . . . . . . . . . . . . . . . . . . . . . . . . . . . . . . . . . . . . SMALL | $12 FULL | $16\\nGorgonzola cheese, romaine lettuce, kale, walnuts, bruschetta tomatoes, \\nKalamata olives, red onion, pepperoncini, garbanzo beans and carrots \\ntossed in a light Balsamic vinaigrette dressing\\nTUSCAN SALAD . . . . . . . . . . . . . . . . . . . . . . . . . . . . . . . . . . . . . . . . . . . SMALL | $11 FULL | $15 FAMILY | $20\\nRomaine, diced Roma tomatoes, house made fresh mozzarella, red onions \\nand Kalamata olives tossed together and splashed with balsamic vinegar\\nand extra virgin olive oil\\nMAMA’S SALAD . . . . . . . . . . . . . . . . . . . . . . . . . . . . . . . . . . . . . . . . . . . SMALL | $10 FULL | $14 FAMILY | $19\\nMade with crisp romaine, fresh vegetables, artichoke hearts, roasted red peppers \\n& vine-ripened cherry tomatoes, with your choice of salad dressings\\nA $3.00 split fee is assessed for all shared items. Large pizzas and family items are not valid with discount cards.\\nEnjoy Mama Ricotta’s house made salad dressings at home by purchasing a quart of your favorite. \\nJust ask your server\\nNOTICE: Items marked with * may be cooked to order. * Items are served raw or undercooked, or contain (or may \\ncontain) raw or undercooked ingredients. Consuming raw or undercooked meats, poultry, seafood, shellﬁsh or eggs \\nmay increase your risk of food borne illness, especially if you have certain medical conditions\\nAdd chicken for $6 Individual | $10 Family • Add shrimp for $9 Individual | $16 Family\\nAdd *salmon for $12 Individual | $22 Family\\nMenu is subject to change - June 2023\\nWe are happy to accommodate certain modiﬁcations but they may incur an additional charge\\nWHOLE WHEAT PASTA AVAILABLE UPON REQUEST FOR AN ADDITIONAL $4\\nGLUTEN FREE PASTA AVAILABLE UPON REQUEST FOR AN ADDITIONAL $2\\nThere is a $3 per person dessert fee for any outside desserts, and a $30 corkage fee.\\nAn automatic gratuity of 20% is added to all parties with 8 or more guests\\nMenu is subject to change - June 2023\\nPASTA\\nPASTA PRIMAVERA . . . . . . . . . . . . . . . . . . . . . . . . . . . . . . . . . . . . . . . . . . . . . . . . . . . . . . . . . . . . . . . . $18 | $29\\nOrganic spaghetti tossed with seasonal vegetables and served with your choice of \\nextra virgin olive oil and garlic, cream, or tomato basil sauce\\nAMMA’S CHEESE RAVIOLI . . . . . . . . . . . . . . . . . . . . . . . . . . . . . . . . . . . . . . . . . . . . . . . . . . . . . . . . . . $19 | $33\\nOur family recipe for cheese ravioli stuffed with creamy ricotta,\\nfresh mozzarella, Parmigiano Reggiano and Pecorino Romano. \\nServed with your choice of meat sauce, tomato sauce or butter & sage\\nITALIAN SAUSAGE RAVIOLI . . . . . . . . . . . . . . . . . . . . . . . . . . . . . . . . . . . . . . . . . . . . . . . . . . . . . . . . . . . $26 | —\\nRavioloni stuffed with Italian sausage and mascarpone served in a light \\ntomato sauce with Italian butter\\nPAPPARDELLE WITH TOMATO BASIL SAUCE. . . . . . . . . . . . . . . . . . . . . . . . . . . . . . . . . . . . . . . . . . . $17 | $24\\nHouse made pappardelle tossed with sweet, slow-cooked San Marzano \\nRoma tomato sauce and topped with fresh basil (make it spicy with Calabrian chilis +$$)\\nSPAGHETTI WITH MEATBALLS . . . . . . . . . . . . . . . . . . . . . . . . . . . . . . . . . . . . . . . . . . . . . . . . . . . . . . $22 | $36\\nOrganic spaghetti with American wagyu beef and\\nKurobuta pork meatballs braised in Mama’s tomato basil sauce\\nSPICY SHRIMP AND MUSSEL LINGUINE. . . . . . . . . . . . . . . . . . . . . . . . . . . . . . . . . . . . . . . . . . . . . . . . . $30 | —\\nNatural shrimp and mussels tossed with fresh linguine in a marinated\\ntomato, Calabrian chili, white wine and Italian butter sauce with toasted garlic\\nLASAGNA . . . . . . . . . . . . . . . . . . . . . . . . . . . . . . . . . . . . . . . . . . . . . . . . . . . . . . . . . . . . . . . . . . . . . . . . . . $18 | —\\nSouthern Italian style lasagna made with layers of ground beef, veal,\\nhomemade sausage and a blend of three cheeses\\nPENNE ALLA VODKA . . . . . . . . . . . . . . . . . . . . . . . . . . . . . . . . . . . . . . . . . . . . . . . . . . . . . . . . . . . . . . . $20 | $35\\nOur famous penne pasta tossed with sautéed pork pancetta in a \\npepper vodka, spicy tomato cream sauce (top it with a chicken parm cutlet for $10)\\nHOUSE RADIATORE WITH MEAT SAUCE . . . . . . . . . . . . . . . . . . . . . . . . . . . . . . . . . . . . . . . . . . . . . . $18 | $29\\nA Scibelli family recipe made with ground beef, pork, veal and Italian \\nplum tomatoes over fresh radiatore pasta\\n(Add a dollop of hand packed ricotta for $1.50/$2.50)\\nPENNE, BROCCOLI & CHICKEN . . . . . . . . . . . . . . . . . . . . . . . . . . . . . . . . . . . . . . . . . . . . . . . . . . . . . . $20 | $35\\nBroiled chicken breast, broccoli ﬂorets and penne pasta tossed \\nin a delicate lemon cream sauce\\n(Add house made Italian sausage for $5/$10)\\nAdd chicken for $6 Individual | $10 Family • Add shrimp for $9 Individual | $16 Family\\nAdd *salmon for $9 Individual | $20 Family\\nFamily style pastas feed approximately 2-3 people\\nINDIVIDUAL | FAMILY\\nWe are happy to accommodate certain modiﬁcations but they may incur an additional charge\\nAdd a Mama’s side salad for $5.25\\nENTRÉES\\nSIDES\\nA $3.00 split fee is assessed for all shared items. \\nNOTICE: Items marked with * may be cooked to order. * Items are served raw or undercooked, or contain (or may contain) raw \\nor undercooked ingredients. Consuming raw or undercooked meats, poultry, seafood, shellﬁsh or eggs may increase your risk \\nof food borne illness, especially if you have certain medical conditions\\nFamily style entrées feed approximately 2-3 people and are prepared à la carte\\nPOLLO ALLA GRIGLIA\\nBroiled chicken breast marinated in lemon and garlic, topped with bruschetta \\ntomatoes served with roasted garlic mashed potatoes and \\ntoday's fresh vegetable\\nPOLLO CARCIOFI\\nTender chicken scallopine with artichoke hearts in a light sauce of lemon, \\nwhite wine, and capers served with creamy polenta and today's \\nfresh vegetable\\nPOLLO BIANCO\\nScallopini-style chicken layered with prosciutto and mozzarella in a Chianti \\nwild mushroom sauce. Served with today's fresh vegetable and \\ngarlic mashed potatoes\\n$24   |   $40   |   $50\\n$23   |   $40   |   $55\\n$23   |   $40   |   $55\\nINDIVIDUAL  |  FAMILY  |  FAMILY\\nINDIVIDUAL  $6 |  FAMILY  $12\\n                              w/ no sides    w/ 2 sides\\nBroiled Asparagus with Lemon and Garlic \\nSautéed Broccolini with Chopped Tomato & Garlic\\nGarlic Mashed Potatoes\\nSautéed Spinach with Garlic and Olive Oil\\nAssorted Broiled Vegetables\\nMascarpone & Goat Cheese Anson Mills Polenta\\nMenu is subject to change - June 2023\\nAdd a Mama’s side salad for $5.25\\nCHIANTI BRAISED SHORT RIB . . . . . . . . . . . . . . . . . . . . . . . . . . . . . . . . . . . . . . . . . . . . . . . . . . . . . . . . . . . . . . . . . . . . . $34\\n12-hour, slow-braised short rib over house pappardelle, cipollini onions \\nand local kale\\nCHICKEN PARMESAN . . . . . . . . . . . . . . . . . . . . . . . . . . . . . . . . . . . . . . . . . . . . . . . . . . . . . INIDIVIDUAL $25 | FAMILY $55\\nThe Italian-American Classic—Crispy chicken breasts, melted cheese and tomato sauce, \\nserved with a side of organic spaghetti\\n*SALMONI ARROSTITI OLIVADA . . . . . . . . . . . . . . . . . . . . . . . . . . . . . . . . . . . . . . . . . . . . . . . . . . . . . . . . . . . . . . . . . . . $34\\nBroiled premium ﬁlet of North Atlantic salmon, topped with Kalamata olive pesto, \\nserved with roasted garlic mashed potatoesand roasted asparagus\\nVEAL MARSALA. . . . . . . . . . . . . . . . . . . . . . . . . . . . . . . . . . . . . . . . . . . . . . . . . . . . . . . . . . . . . . . . . . . . . . . . . . . . . . . . . $32\\nVeal scallopine sautéed in Marsala mushroom sauce with shallots. Served with linguine cacio e pepe\\nCHICKEN DISHES\\nMAMA’S CLASSICS\\nWe are happy to accommodate certain modiﬁcations but they may incur an additional charge\\nPIZZAS\\nPERSONALIZED PIES\\nMEDIUM 9 INCH |  LARGE 14 INCH\\n$18 |  $24\\nTOMATO & MOZZARELLA PIZZA\\nFreshly made mozzarella, San Marzano tomatoes, torn basil and Italian extra virgin olive oil\\nCHICKEN OREGANATA PIZZA\\nBroiled chicken breast, shredded mozzarella, red onions, & gorgonzola cheese drizzled \\nwith extra virgin olive oil\\nVEGETARIANA PIZZA\\nBroiled zucchini, squash, bell peppers, eggplant, tomato sauce & mozzarella\\nWHITE PIZZA\\nFresh garlic, olive oil, and ricotta cheese topped with mozzarella, Romano, and sautéed spinach\\nJOE’S FAVORITE PIZZA\\nPepperoni and house made pork sausage smothered with mounds of shredded mozzarella\\nPLAIN CHEESE\\nADDITIONAL TOPPINGS\\nMEDIUM . . . . . . . . . . . $12\\nMEDIUM . . . . . . $2 EACH\\nLARGE. . . . . . . . . . . $15\\nLARGE. . . . . . $4 EACH\\nPepperoni | Crushed Garlic | Chicken Breast\\nAnchovies | Spinach | Gorgonzola\\nItalian Sausage | Ricotta Cheese | Pesto\\nArtichoke Hearts | Prosciutto | Black Olives | Green Peppers \\nWhite Mushrooms | Red Onions\\nA $3.00 split fee is assessed for all shared items. Large pizzas and family items are not valid with discount cards.\\nThere is a $3 per person dessert fee for any outside desserts, and a $30 corkage fee.\\nMenu is subject to change - May 2023\\nOur pizza is a house recipe—New England style—with a thin crust that \\nis crisp & bubbly and cooked in a true wood-burning oven. Enjoy!\\nWe are happy to accommodate certain modiﬁcations but they may incur an additional charge\\nI opened Mama Ricotta’s in August of 1992 to offer the delicious homestyle Italian-American food I remember fondly from \\nmy youth. Back in 1908, my grandfather emigrated from Quindice, Italy to Springﬁeld, Massachusetts to ﬁnd work as a \\nstonemason. He settled in Springﬁeld’s South End, an ethnic neighborhood full of immigrants from all regions of Italy. Over \\nthe years, natives of Naples, Calabria, Marche, Bari, and other regions joined our extended family through marriages and \\nfriendships. I have chosen a regional Italian-American menu at Mama Ricotta’s because it reﬂects my family’s expansive \\nand diverse heritage.\\nWe serve my interpretation of the dishes prepared by relatives and friends, who loved nothing more than to get together \\nto share new recipes and to perfect old favorites. The food here is created with the same passion and adventurous spirit I \\nsaw every day in my family’s kitchen. Maybe it goes without saying, but family and friends deserve only the best. It was \\ntrue when I was a boy in Springﬁeld, and it’s true every time a guest walks through the door of Mama Ricotta’s. We seek \\nout the ﬁnest and freshest ingredients from across the globe, and hold the highest standards for our homemade \\nmozzarella, sausage, breads, and desserts. One dish at a time, it’s my pleasure to continue a rich tradition of quality, \\ncreativity and warm hospitality.\\nWelcome to Mama Ricotta\\n’s\\nSo please relax and enjoy. We’re glad to have you here.\\nFrank Scibelli\\nRestaurant | P. 704.343.0148 \\nCatering | P. 704.343.0155\\n601 South Kings Drive • Suite AA \\nCharlotte, NC 28204\\n\")]\n"
     ]
    }
   ],
   "source": [
    "# Load the text file\n",
    "loader = TextLoader(str(\"extracted_text.txt\"), encoding=\"utf-8\")\n",
    "documents = loader.load()\n",
    "\n",
    "# Ingest Parent-Child node pairs\n",
    "parent_splitter = TokenTextSplitter(chunk_size=512, chunk_overlap=24)\n",
    "child_splitter = TokenTextSplitter(chunk_size=100, chunk_overlap=24)\n",
    "parent_documents = parent_splitter.split_documents(documents)\n",
    "print(documents)"
   ]
  },
  {
   "cell_type": "markdown",
   "metadata": {},
   "source": [
    "## Ingest Document parents and children into knowledge graph"
   ]
  },
  {
   "cell_type": "code",
   "execution_count": 6,
   "metadata": {},
   "outputs": [],
   "source": [
    "for i, parent in enumerate(parent_documents):\n",
    "    child_documents = child_splitter.split_documents([parent])\n",
    "    params = {\n",
    "        \"parent_text\": parent.page_content,\n",
    "        \"parent_id\": i,\n",
    "        \"parent_embedding\": embeddings.embed_query(parent.page_content),\n",
    "        \"children\": [\n",
    "            {\n",
    "                \"text\": c.page_content,\n",
    "                \"id\": f\"{i}-{ic}\",\n",
    "                \"embedding\": embeddings.embed_query(c.page_content),\n",
    "            }\n",
    "            for ic, c in enumerate(child_documents)\n",
    "        ],\n",
    "    }\n",
    "    # Ingest data\n",
    "    graph.query(\n",
    "    f\"USE {db_name}\"\n",
    "    \"\"\"\n",
    "    MERGE (p:Parent {id: $parent_id})\n",
    "    SET p.text = $parent_text\n",
    "    WITH p\n",
    "    CALL db.create.setVectorProperty(p, 'embedding', $parent_embedding)\n",
    "    YIELD node\n",
    "    WITH p \n",
    "    UNWIND $children AS child\n",
    "    MERGE (c:Child {id: child.id})\n",
    "    SET c.text = child.text\n",
    "    MERGE (c)<-[:HAS_CHILD]-(p)\n",
    "    WITH c, child\n",
    "    CALL db.create.setVectorProperty(c, 'embedding', child.embedding)\n",
    "    YIELD node\n",
    "    RETURN count(*)\n",
    "    \"\"\",\n",
    "        params,\n",
    "    )\n",
    "    # Create vector index for child\n",
    "    try:\n",
    "        graph.query(\n",
    "            f\"USE {db_name} \"\n",
    "            \"CALL db.index.vector.createNodeIndex('parent_document', \"\n",
    "            \"'Child', 'embedding', $dimension, 'cosine')\",\n",
    "            {\"dimension\": embedding_dimension},\n",
    "        )\n",
    "    except ClientError:  # already exists\n",
    "        pass\n",
    "    # Create vector index for parents\n",
    "    try:\n",
    "        graph.query(\n",
    "            f\"USE {db_name} \"\n",
    "            \"CALL db.index.vector.createNodeIndex('typical_rag', \"\n",
    "            \"'Parent', 'embedding', $dimension, 'cosine')\",\n",
    "            {\"dimension\": embedding_dimension},\n",
    "        )\n",
    "    except ClientError:  # already exists\n",
    "        pass"
   ]
  },
  {
   "cell_type": "markdown",
   "metadata": {},
   "source": [
    "## Generate Jeopardy Categories"
   ]
  },
  {
   "cell_type": "code",
   "execution_count": 7,
   "metadata": {},
   "outputs": [
    {
     "name": "stdout",
     "output_type": "stream",
     "text": [
      "Italian Cuisine, Appetizers, Pasta Dishes, Salads, Entrees\n"
     ]
    }
   ],
   "source": [
    "# Generate Jeopardy Categories\n",
    "class JeopardyCategories(BaseModel):\n",
    "    \"\"\"Generating Jeopardy-style Categories.\"\"\"\n",
    "    categories: List[str] = Field(..., description=\"List of generated categories\")\n",
    "\n",
    "categories_prompt = ChatPromptTemplate.from_messages(\n",
    "    [\n",
    "        (\n",
    "            \"system\",\n",
    "            (\n",
    "                \"You are to generate five distinct Jeopardy-style categories \"\n",
    "                \"based on the information found in the text. \"\n",
    "            ),\n",
    "        ),\n",
    "        (\n",
    "            \"human\",\n",
    "            (\n",
    "                \"Use the given format to generate Jeopardy-style categories from the \"\n",
    "                \"following input: {input}\"\n",
    "            ),\n",
    "        ),\n",
    "    ]\n",
    ")\n",
    "\n",
    "categories_chain = categories_prompt | llm.with_structured_output(JeopardyCategories)\n",
    "jeopardy_categories = categories_chain.invoke(documents)\n",
    "jeopardy_categories_str = ', '.join(jeopardy_categories.categories)\n",
    "print(jeopardy_categories_str)"
   ]
  },
  {
   "cell_type": "markdown",
   "metadata": {},
   "source": [
    "## Prompt Plumbing for Jeopardy Questions with Points and Answers in Categories"
   ]
  },
  {
   "cell_type": "code",
   "execution_count": 8,
   "metadata": {},
   "outputs": [],
   "source": [
    "class JeopardyQuestion(BaseModel):\n",
    "    \"\"\"Structuring questions with categories, points, and answers.\"\"\"\n",
    "    category: str = Field(..., description=\"Jeopardy-style category\")\n",
    "    question: str = Field(..., description=\"Generated question\")\n",
    "    answer: str = Field(..., description=\"Generated answer\")\n",
    "    points: int = Field(..., description=\"Point value associated with the question\")\n",
    "\n",
    "class JeopardyQuestions(BaseModel):\n",
    "    \"\"\"Generating hypothetical Jeopardy-style questions with answers.\"\"\"\n",
    "    questions: List[JeopardyQuestion] = Field(\n",
    "        ..., description=\"List of questions with their categories, answers, and points\"\n",
    "    )\n",
    "\n",
    "questions_prompt = ChatPromptTemplate.from_messages(\n",
    "    [\n",
    "        (\n",
    "            \"system\",\n",
    "            (\n",
    "                f\"You are generating Jeopardy-style questions with points and answers for one or more of these categories {jeopardy_categories_str} \"\n",
    "                \"based on the information found in the text. For each question also generate a correct answer.\"\n",
    "                \"Each question should have a point value ranging from 100 to 500 depending on the difficulty of the question. \"\n",
    "            ),\n",
    "        ),\n",
    "        (\n",
    "            \"human\",\n",
    "            (\n",
    "                \"Use the given format to generate Jeopardy-style questions with difficulty point value and answers from the \"\n",
    "                \"following input: {input}\"\n",
    "            ),\n",
    "        ),\n",
    "    ]\n",
    ")\n",
    "\n",
    "question_chain = questions_prompt | llm.with_structured_output(JeopardyQuestions)\n",
    "\n"
   ]
  },
  {
   "cell_type": "markdown",
   "metadata": {},
   "source": [
    "## Generate and Ingest Questions with Points and Answers for Categories"
   ]
  },
  {
   "cell_type": "code",
   "execution_count": 10,
   "metadata": {},
   "outputs": [
    {
     "name": "stdout",
     "output_type": "stream",
     "text": [
      "[JeopardyQuestion(category='Appetizers', question='What is the name of the appetizer that consists of fried balls of risotto and tender beef short rib served with tomato basil sauce?', answer='Short Rib Arancini', points=200), JeopardyQuestion(category='Appetizers', question='What appetizer includes soft freshly made mozzarella ribbons in rich cream topped with lemon zest, olive oil, and pistachios, accompanied by soppresatta, oven-dried tomatoes, and giardiniera?', answer='Fresh Stracciatella Cheese & Antipasto Plate', points=300), JeopardyQuestion(category='Appetizers', question='Which appetizer features Wagyu beef and Kurobuta pork meatballs broiled with fresh mozzarella and tomato sauce?', answer='Baked Wagyu-Pork Meatball', points=400), JeopardyQuestion(category='Appetizers', question=\"What appetizer, a Mama Ricotta's favorite, is served with grilled ciabatta for dipping and topped with a warm tomato basil sauce?\", answer='Goat Cheese & Mascarpone Dip', points=300), JeopardyQuestion(category='Appetizers', question='When available, which appetizer is steamed in a broth with roasted tomatoes, white wine, Italian butter, and served with crusty sourdough bread?', answer='PEI Mussels', points=200)]\n",
      "[JeopardyQuestion(category='Appetizers', question='What is the name of the appetizer made with house-made fresh mozzarella, vine-ripened tomatoes, extra virgin olive oil, and fresh basil?', answer='Mozzarella & Tomatoes', points=200), JeopardyQuestion(category='Salads', question='What type of salad includes gorgonzola cheese, romaine lettuce, kale, walnuts, bruschetta tomatoes, Kalamata olives, red onion, pepperoncini, garbanzo beans, and carrots tossed in a light Balsamic vinaigrette dressing?', answer='Chopped Salad', points=300), JeopardyQuestion(category='Entrees', question='What is the name of the soup that consists of caramelized onions in a rich broth topped with toast and broiled Fontina cheese?', answer='Milanese Onion Soup', points=400)]\n",
      "[JeopardyQuestion(category='Salads', question='What salad is made with romaine, diced Roma tomatoes, house made fresh mozzarella, red onions, and Kalamata olives splashed with balsamic vinegar and extra virgin olive oil?', answer='MAMA’S SALAD', points=200), JeopardyQuestion(category='Salads', question='Which salad contains beans, carrots, and is tossed in a light Balsamic vinaigrette dressing?', answer='TUSCAN SALAD', points=300)]\n",
      "[JeopardyQuestion(category='Pasta Dishes', question='What is the price range for PASTA PRIMAVERA on the menu?', answer='$18 - $29', points=100), JeopardyQuestion(category='Pasta Dishes', question='What type of sauce can you choose for the PASTA PRIMAVERA dish?', answer='Extra virgin olive oil and garlic, cream, or tomato basil sauce', points=200), JeopardyQuestion(category='Pasta Dishes', question='What cheeses are included in AMMA’S CHEESE RAVIOLI?', answer='Ricotta, fresh mozzarella, Parmigiano Reggiano, and Pecorino Romano', points=300), JeopardyQuestion(category='Pasta Dishes', question='What type of sauce options are available for AMMA’S CHEESE RAVIOLI?', answer='Meat sauce, tomato sauce, or butter & sage', points=400), JeopardyQuestion(category='Pasta Dishes', question='What is the dish PAPPARDELLE WITH TOMATO BASIL SAUCE topped with?', answer='Fresh basil', points=500)]\n",
      "[JeopardyQuestion(category='Pasta Dishes', question='This dish features organic spaghetti with American wagyu beef and Kurobuta pork meatballs braised in Mama’s tomato basil sauce.', answer='What is the Organic Spaghetti with Meatballs?', points=200), JeopardyQuestion(category='Entrees', question='Natural shrimp and mussels tossed with fresh linguine in a marinated tomato, Calabrian chili, white wine and Italian butter sauce with toasted garlic. What is this dish called?', answer='What is the Spicy Shrimp and Mussel Linguine?', points=300), JeopardyQuestion(category='Pasta Dishes', question='Our famous penne pasta is tossed with sautéed pork pancetta in a pepper vodka, spicy tomato cream sauce. What dish is this?', answer='What is the Penne alla Vodka?', points=300), JeopardyQuestion(category='Entrees', question='A Scibelli family recipe made with ground beef, pork, veal, and Italian plum tomatoes over fresh radiatore pasta. What is this dish called?', answer='What is the House Radiatore with Meat Sauce?', points=400)]\n",
      "[JeopardyQuestion(category='Italian Cuisine', question='What is the Scibelli family recipe made with ground beef, pork, veal, and Italian plum tomatoes over fresh radiatore pasta?', answer='Scibelli family recipe', points=200), JeopardyQuestion(category='Pasta Dishes', question='What dish consists of broiled chicken breast, broccoli florets, and penne pasta tossed in a delicate lemon cream sauce?', answer='Penne, Broccoli & Chicken', points=300), JeopardyQuestion(category='Entrees', question=\"What entrée features broiled chicken breast marinated in lemon and garlic, topped with bruschetta tomatoes, served with roasted garlic mashed potatoes and today's fresh vegetable?\", answer='Pollo alla Griglia', points=400)]\n",
      "[JeopardyQuestion(category='Entrees', question='What dish is described as 12-hour, slow-braised short rib over house pappardelle, cipollini onions, and local kale?', answer='Chianti Braised Short Rib', points=200), JeopardyQuestion(category='Entrees', question='Which Italian-American classic dish consists of crispy chicken breasts, melted cheese, and tomato sauce, served with organic spaghetti?', answer='Chicken Parmesan', points=300)]\n",
      "[JeopardyQuestion(category='Entrees', question='What dish consists of broiled premium fillet of North Atlantic salmon topped with Kalamata olive pesto, served with roasted garlic mashed potatoes and roasted asparagus?', answer='Salmon with Kalamata Olive Pesto', points=300), JeopardyQuestion(category='Entrees', question='What is the price of the Veal Marsala dish on the menu?', answer='$32', points=200), JeopardyQuestion(category='Pizzas', question='Which pizza on the menu features broiled chicken breast, shredded mozzarella, red onions, and gorgonzola cheese drizzled with extra virgin olive oil?', answer='Chicken Oreganata Pizza', points=400)]\n",
      "[JeopardyQuestion(category='Italian Cuisine', question=\"Who opened Mama Ricotta's in August of 1992 to offer delicious homestyle Italian-American food?\", answer='Frank Scibelli', points=200), JeopardyQuestion(category='Appetizers', question=\"What are some toppings available for the large pizzas at Mama Ricotta's?\", answer='Pepperoni, Crushed Garlic, Chicken Breast, Anchovies, Spinach, Gorgonzola, Italian Sausage, Ricotta Cheese, Pesto, Artichoke Hearts, Prosciutto, Black Olives, Green Peppers, White Mushrooms, Red Onions', points=300), JeopardyQuestion(category='Pasta Dishes', question=\"What type of crust is Mama Ricotta's pizza known for, and how is it cooked?\", answer='New England style with a thin crust that is crisp & bubbly, cooked in a true wood-burning oven', points=400), JeopardyQuestion(category='Salads', question=\"What is the inspiration behind Mama Ricotta's regional Italian-American menu?\", answer=\"Reflects the family's expansive and diverse heritage from various regions of Italy\", points=200), JeopardyQuestion(category='Entrees', question=\"What standards does Mama Ricotta's hold when it comes to ingredients for their dishes?\", answer='They seek out the finest and freshest ingredients from across the globe and hold the highest standards', points=500)]\n",
      "[JeopardyQuestion(category='Italian Cuisine', question='This restaurant seeks out the finest and freshest ingredients from across the globe and holds high standards for homemade mozzarella, sausage, breads, and desserts.', answer=\"Mama Ricotta's\", points=300), JeopardyQuestion(category='Appetizers', question=\"What type of hospitality does Mama Ricotta's aim to provide to its guests?\", answer='Warm hospitality', points=200), JeopardyQuestion(category='Entrees', question=\"According to the text, what tradition does Mama Ricotta's aim to continue through its dishes?\", answer='A rich tradition of quality and creativity', points=400)]\n"
     ]
    }
   ],
   "source": [
    "for parent_id, parent in enumerate(parent_documents):\n",
    "    jeopardy_data = question_chain.invoke(parent.page_content)\n",
    "    questions = jeopardy_data.questions\n",
    "    print(questions)\n",
    "\n",
    "    params = {\n",
    "        \"parent_id\": parent_id,\n",
    "        \"questions\": [\n",
    "            {\n",
    "                \"question_id\": f\"q-{question_id}\",\n",
    "                \"text\": q.question,\n",
    "                \"category\": q.category,\n",
    "                \"points\": q.points,\n",
    "                \"question_embedding\": embeddings.embed_query(q.question),\n",
    "                \"answer_id\": f\"a-{question_id}\",\n",
    "                \"answer_text\": q.answer,\n",
    "                \"answer_embedding\": embeddings.embed_query(q.answer)\n",
    "            }\n",
    "            for question_id, q in enumerate(questions)\n",
    "        ],\n",
    "    }\n",
    "    graph.query(\n",
    "        f\"USE {db_name}\"\n",
    "        \"\"\"\n",
    "        UNWIND $questions AS question\n",
    "        MATCH (p:Parent {id: $parent_id})\n",
    "        WITH p, question\n",
    "        MERGE (cat:Category {id: question.category, name: question.category})\n",
    "        WITH p, cat, question\n",
    "        CREATE (q:Question {id: question.question_id})\n",
    "        SET q.text = question.text, q.points = question.points\n",
    "        MERGE (q)-[:IN_CATEGORY]->(cat)-[:FOR_PARENT]->(p)\n",
    "        WITH q, question\n",
    "\n",
    "        CALL db.create.setVectorProperty(q, 'embedding', question.question_embedding) \n",
    "        YIELD node\n",
    "        RETURN count(*)\n",
    "    \"\"\",\n",
    "        params,\n",
    "    )\n",
    "\n",
    "    # Ingest generated answers\n",
    "    graph.query(\n",
    "        f\"USE {db_name} \"\n",
    "        \"\"\"\n",
    "        UNWIND $questions AS question\n",
    "        MATCH (q:Question {id: question.question_id})\n",
    "        WITH q, question\n",
    "        CREATE (a:Answer {id: question.answer_id})\n",
    "        SET a.text = question.answer_text\n",
    "        MERGE (q)-[:HAS_ANSWER]->(a)\n",
    "        WITH a, question\n",
    "\n",
    "        CALL db.create.setVectorProperty(a, 'embedding', question.answer_embedding) \n",
    "        YIELD node\n",
    "        RETURN count(*)\n",
    "        \"\"\",\n",
    "        params,\n",
    "    )\n",
    "    \n",
    "    # Create vector indexes for questions and answers\n",
    "    try:\n",
    "        graph.query(\n",
    "            f\"USE {db_name} \"\n",
    "            \"CALL db.index.vector.createNodeIndex('jeopardy_questions', \"\n",
    "            \"'Question', 'embedding', $dimension, 'cosine')\",\n",
    "            {\"dimension\": embedding_dimension},\n",
    "        )\n",
    "    except ClientError:  # already exists\n",
    "        pass\n",
    "\n",
    "    # Create vector indexes for questions and answers\n",
    "    try:\n",
    "        graph.query(\n",
    "            f\"USE {db_name} \"\n",
    "            \"CALL db.index.vector.createNodeIndex('jeopardy_answers', \"\n",
    "            \"'Answer', 'embedding', $dimension, 'cosine')\",\n",
    "            {\"dimension\": embedding_dimension},\n",
    "        )\n",
    "    except ClientError:  # already exists\n",
    "        pass"
   ]
  },
  {
   "cell_type": "code",
   "execution_count": null,
   "metadata": {},
   "outputs": [],
   "source": []
  }
 ],
 "metadata": {
  "kernelspec": {
   "display_name": "venv",
   "language": "python",
   "name": "python3"
  },
  "language_info": {
   "codemirror_mode": {
    "name": "ipython",
    "version": 3
   },
   "file_extension": ".py",
   "mimetype": "text/x-python",
   "name": "python",
   "nbconvert_exporter": "python",
   "pygments_lexer": "ipython3",
   "version": "3.10.11"
  }
 },
 "nbformat": 4,
 "nbformat_minor": 2
}
